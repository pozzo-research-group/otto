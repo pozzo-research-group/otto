{
 "cells": [
  {
   "cell_type": "code",
   "execution_count": 1,
   "id": "2e803490",
   "metadata": {},
   "outputs": [],
   "source": [
    "import importlib\n",
    "import pandas as pd\n",
    "import numpy as np\n",
    "from OT2_code import OT2Directions as OT2D\n",
    "from OT2_code import Create_Directions as CD\n",
    "import opentrons.simulate as simulate\n",
    "from datetime import datetime\n",
    "from pytz import timezone "
   ]
  },
  {
   "cell_type": "markdown",
   "id": "7ad8c947",
   "metadata": {},
   "source": [
    "## Import values for Volume, Time, and Order\n",
    "The three arrays contain information on what to perform. \n",
    "- **v_array**: This is the volume array and it contains information on the volumes of each stock solution, in microliters, used to make one sample. Each column represents a stock solution and each row represents a sample. \n",
    "- **o_array**: This is the order in which the stock solutions are added. Each row represents a sample and each column represents the next stock solution that should be added. The number 1 represents the first stock solution that should be added. \n",
    "- **t_array**: This is the time array and it contains information on the delay times before adding each stock solution. The first colum represents the time delay that occurs before adding the second stock solution to the first. Note that the delay times are applied to the stock solutions of the samples after they are ordered according to the values in the o_array. The units of the time delay are in units of the **action_time** which is the amount of time it takes in seconds to perform one action. More information on this can be found in the next section. "
   ]
  },
  {
   "cell_type": "code",
   "execution_count": 2,
   "id": "d1c4877a",
   "metadata": {},
   "outputs": [],
   "source": [
    "v_array = pd.read_csv('Samples_and_Protocol/Samples/volume.csv').values\n",
    "t_array = pd.read_csv('Samples_and_Protocol/Samples/time.csv').values\n",
    "o_array = pd.read_csv('Samples_and_Protocol/Samples/order.csv').values"
   ]
  },
  {
   "cell_type": "markdown",
   "id": "f2c9814a",
   "metadata": {},
   "source": [
    "## Create the Direction Array\n",
    "The function CD.create_directions will transform the volume, time, and order arrays into a single array with the directions that the OT2 can follow. The OT2 will perform one action (pick up tip - transfer stock to destination - drop tip) per row and every action will take the same amount of time which can be set by the keyword argument **action_time**. The first column of the direction_array variable contains information on the volume that needs to be transferred. The second column contains information on the sample number. The third column contains information on the stock number to use. A row that contains negative numbers means that the OT2 will not perform any action for a duration equal to the absolute value of the negative number multiplied by the time it takes to perform one action. Any sample with a volume = 0 and time_delay = 0, will be completely ignored. "
   ]
  },
  {
   "cell_type": "code",
   "execution_count": 3,
   "id": "f3b75267",
   "metadata": {},
   "outputs": [],
   "source": [
    "direction_array = CD.create_directions(v_array, t_array, o_array)"
   ]
  },
  {
   "cell_type": "markdown",
   "id": "25f86f4d",
   "metadata": {},
   "source": [
    "Specify the protocol path. This determines the identiy and locations of the labwares on the OT2. "
   ]
  },
  {
   "cell_type": "code",
   "execution_count": 4,
   "id": "9bd2118a",
   "metadata": {},
   "outputs": [],
   "source": [
    "protocol_path = 'Samples_and_Protocol/Protocol/protocol.csv'"
   ]
  },
  {
   "cell_type": "markdown",
   "id": "bb1a1c47",
   "metadata": {},
   "source": [
    "Set the time that each action should take with the keyword argument **action_time**, which has units of seconds. "
   ]
  },
  {
   "cell_type": "code",
   "execution_count": 5,
   "id": "7b162387",
   "metadata": {},
   "outputs": [
    {
     "name": "stderr",
     "output_type": "stream",
     "text": [
      "/home/huatthart/.opentrons/robot_settings.json not found. Loading defaults\n",
      "/home/huatthart/.opentrons/deck_calibration.json not found. Loading defaults\n",
      "/home/huatthart/.opentrons/robot_settings.json not found. Loading defaults\n",
      "/home/huatthart/.opentrons/deck_calibration.json not found. Loading defaults\n"
     ]
    },
    {
     "name": "stdout",
     "output_type": "stream",
     "text": [
      "Experiment will take a total time of:\n",
      "3 hours\n",
      "22 minutes\n"
     ]
    }
   ],
   "source": [
    "exp = OT2D.experiment()\n",
    "protocol = exp.simulate(protocol_path)\n",
    "exp.calculate_exp_duration(direction_array, action_time = 60)"
   ]
  },
  {
   "cell_type": "markdown",
   "id": "4e2e781f",
   "metadata": {},
   "source": [
    "## Start the OT2\n",
    "The following line of code will determine where to place the stock solutions in the labware specified in the file *protocol.csv*. The variable **vial_volume** is the maximum volume of each stock solution vial in mircoliters. It is assumed that every stock solution vial has the same volume.  "
   ]
  },
  {
   "cell_type": "code",
   "execution_count": 6,
   "id": "067eac08",
   "metadata": {
    "scrolled": true
   },
   "outputs": [
    {
     "name": "stdout",
     "output_type": "stream",
     "text": [
      "Stock 0 on  A1 of 20mLscintillation 12 Well Plate 18000 µL on 1\n",
      "Stock 1 on  A2 of 20mLscintillation 12 Well Plate 18000 µL on 1\n",
      "Stock 2 on  A3 of 20mLscintillation 12 Well Plate 18000 µL on 1\n",
      "Stock 3 on  A4 of 20mLscintillation 12 Well Plate 18000 µL on 1\n",
      "Stock 4 on  B1 of 20mLscintillation 12 Well Plate 18000 µL on 1\n"
     ]
    }
   ],
   "source": [
    "vial_volume = 17000\n",
    "direction_array = exp.stock_solution_ranges(direction_array, vial_volume)"
   ]
  },
  {
   "cell_type": "markdown",
   "id": "066e54a5",
   "metadata": {},
   "source": [
    "Determine which well in the wellplate to start in"
   ]
  },
  {
   "cell_type": "code",
   "execution_count": 7,
   "id": "fb85660e",
   "metadata": {},
   "outputs": [],
   "source": [
    "start_location = 0"
   ]
  },
  {
   "cell_type": "markdown",
   "id": "30f00ebd",
   "metadata": {},
   "source": [
    "The following line of code will simulate the OT2 commands used to perform the experiment. "
   ]
  },
  {
   "cell_type": "code",
   "execution_count": 8,
   "id": "86a55bc3",
   "metadata": {
    "scrolled": true
   },
   "outputs": [
    {
     "name": "stderr",
     "output_type": "stream",
     "text": [
      "/home/huatthart/.opentrons/robot_settings.json not found. Loading defaults\n",
      "/home/huatthart/.opentrons/deck_calibration.json not found. Loading defaults\n",
      "/home/huatthart/.opentrons/robot_settings.json not found. Loading defaults\n",
      "/home/huatthart/.opentrons/deck_calibration.json not found. Loading defaults\n"
     ]
    },
    {
     "name": "stdout",
     "output_type": "stream",
     "text": [
      "Picking up tip from A1 of Opentrons 96 Tip Rack 300 µL on 7\n",
      "Aspirating 112.0 uL from A1 of 20mLscintillation 12 Well Plate 18000 µL on 1 at 500.0 uL/sec\n",
      "Air gap\n",
      "Aspirating 20.0 uL from A1 of 20mLscintillation 12 Well Plate 18000 µL on 1 at 500.0 uL/sec\n",
      "Dispensing 112.0 uL into A1 of Corning 96 Well Plate 360 µL Flat on 6 at 700.0 uL/sec\n",
      "Blowing out at A1 of Corning 96 Well Plate 360 µL Flat on 6\n",
      "Blowing out at A1 of Corning 96 Well Plate 360 µL Flat on 6\n",
      "Dropping tip into A1 of Opentrons 96 Tip Rack 300 µL on 7\n",
      "Delaying for 0 minutes and 59.971 seconds\n",
      "Picking up tip from A2 of Opentrons 96 Tip Rack 300 µL on 7\n",
      "Aspirating 61.0 uL from A2 of 20mLscintillation 12 Well Plate 18000 µL on 1 at 500.0 uL/sec\n",
      "Air gap\n",
      "Aspirating 20.0 uL from A2 of 20mLscintillation 12 Well Plate 18000 µL on 1 at 500.0 uL/sec\n",
      "Dispensing 61.0 uL into A1 of Corning 96 Well Plate 360 µL Flat on 6 at 700.0 uL/sec\n",
      "Blowing out at A1 of Corning 96 Well Plate 360 µL Flat on 6\n",
      "Blowing out at A1 of Corning 96 Well Plate 360 µL Flat on 6\n",
      "Dropping tip into A2 of Opentrons 96 Tip Rack 300 µL on 7\n",
      "Delaying for 0 minutes and 59.977 seconds\n",
      "Picking up tip from A3 of Opentrons 96 Tip Rack 300 µL on 7\n",
      "Aspirating 69.0 uL from A3 of 20mLscintillation 12 Well Plate 18000 µL on 1 at 500.0 uL/sec\n",
      "Air gap\n",
      "Aspirating 20.0 uL from A3 of 20mLscintillation 12 Well Plate 18000 µL on 1 at 500.0 uL/sec\n",
      "Dispensing 69.0 uL into A1 of Corning 96 Well Plate 360 µL Flat on 6 at 700.0 uL/sec\n",
      "Blowing out at A1 of Corning 96 Well Plate 360 µL Flat on 6\n",
      "Blowing out at A1 of Corning 96 Well Plate 360 µL Flat on 6\n",
      "Dropping tip into A3 of Opentrons 96 Tip Rack 300 µL on 7\n",
      "Delaying for 0 minutes and 59.978 seconds\n",
      "Picking up tip from A4 of Opentrons 96 Tip Rack 300 µL on 7\n",
      "Aspirating 34.0 uL from A4 of 20mLscintillation 12 Well Plate 18000 µL on 1 at 500.0 uL/sec\n",
      "Air gap\n",
      "Aspirating 20.0 uL from A4 of 20mLscintillation 12 Well Plate 18000 µL on 1 at 500.0 uL/sec\n",
      "Dispensing 34.0 uL into A1 of Corning 96 Well Plate 360 µL Flat on 6 at 700.0 uL/sec\n",
      "Blowing out at A1 of Corning 96 Well Plate 360 µL Flat on 6\n",
      "Blowing out at A1 of Corning 96 Well Plate 360 µL Flat on 6\n",
      "Dropping tip into A4 of Opentrons 96 Tip Rack 300 µL on 7\n",
      "Delaying for 0 minutes and 59.98 seconds\n",
      "Picking up tip from A5 of Opentrons 96 Tip Rack 300 µL on 7\n",
      "Aspirating 34.0 uL from B1 of 20mLscintillation 12 Well Plate 18000 µL on 1 at 500.0 uL/sec\n",
      "Air gap\n",
      "Aspirating 20.0 uL from B1 of 20mLscintillation 12 Well Plate 18000 µL on 1 at 500.0 uL/sec\n",
      "Dispensing 34.0 uL into A1 of Corning 96 Well Plate 360 µL Flat on 6 at 700.0 uL/sec\n",
      "Blowing out at A1 of Corning 96 Well Plate 360 µL Flat on 6\n",
      "Blowing out at A1 of Corning 96 Well Plate 360 µL Flat on 6\n",
      "Dropping tip into A5 of Opentrons 96 Tip Rack 300 µL on 7\n",
      "Delaying for 0 minutes and 59.977 seconds\n",
      "Picking up tip from A6 of Opentrons 96 Tip Rack 300 µL on 7\n",
      "Aspirating 40.0 uL from B2 of 20mLscintillation 12 Well Plate 18000 µL on 1 at 500.0 uL/sec\n",
      "Air gap\n",
      "Aspirating 20.0 uL from B2 of 20mLscintillation 12 Well Plate 18000 µL on 1 at 500.0 uL/sec\n",
      "Dispensing 40.0 uL into A1 of Corning 96 Well Plate 360 µL Flat on 6 at 700.0 uL/sec\n",
      "Blowing out at A1 of Corning 96 Well Plate 360 µL Flat on 6\n",
      "Blowing out at A1 of Corning 96 Well Plate 360 µL Flat on 6\n",
      "Dropping tip into A6 of Opentrons 96 Tip Rack 300 µL on 7\n",
      "Delaying for 0 minutes and 59.974 seconds\n",
      "Picking up tip from A7 of Opentrons 96 Tip Rack 20 µL on 4\n",
      "Aspirating 17.0 uL from B3 of 20mLscintillation 12 Well Plate 18000 µL on 1 at 500.0 uL/sec\n",
      "Dispensing 17.0 uL into A1 of Corning 96 Well Plate 360 µL Flat on 6 at 500.0 uL/sec\n",
      "Blowing out at A1 of Corning 96 Well Plate 360 µL Flat on 6\n",
      "Blowing out at A1 of Corning 96 Well Plate 360 µL Flat on 6\n",
      "Dropping tip into A7 of Opentrons 96 Tip Rack 20 µL on 4\n",
      "Delaying for 0 minutes and 59.979 seconds\n",
      "Picking up tip from A1 of Opentrons 96 Tip Rack 300 µL on 7\n",
      "Aspirating 112.0 uL from A1 of 20mLscintillation 12 Well Plate 18000 µL on 1 at 500.0 uL/sec\n",
      "Air gap\n",
      "Aspirating 20.0 uL from A1 of 20mLscintillation 12 Well Plate 18000 µL on 1 at 500.0 uL/sec\n",
      "Dispensing 112.0 uL into A2 of Corning 96 Well Plate 360 µL Flat on 6 at 700.0 uL/sec\n",
      "Blowing out at A2 of Corning 96 Well Plate 360 µL Flat on 6\n",
      "Blowing out at A2 of Corning 96 Well Plate 360 µL Flat on 6\n",
      "Dropping tip into A1 of Opentrons 96 Tip Rack 300 µL on 7\n",
      "Delaying for 0 minutes and 59.969 seconds\n",
      "Picking up tip from A2 of Opentrons 96 Tip Rack 300 µL on 7\n",
      "Aspirating 61.0 uL from A2 of 20mLscintillation 12 Well Plate 18000 µL on 1 at 500.0 uL/sec\n",
      "Air gap\n",
      "Aspirating 20.0 uL from A2 of 20mLscintillation 12 Well Plate 18000 µL on 1 at 500.0 uL/sec\n",
      "Dispensing 61.0 uL into A2 of Corning 96 Well Plate 360 µL Flat on 6 at 700.0 uL/sec\n",
      "Blowing out at A2 of Corning 96 Well Plate 360 µL Flat on 6\n",
      "Blowing out at A2 of Corning 96 Well Plate 360 µL Flat on 6\n",
      "Dropping tip into A2 of Opentrons 96 Tip Rack 300 µL on 7\n",
      "Delaying for 0 minutes and 59.975 seconds\n",
      "Picking up tip from A3 of Opentrons 96 Tip Rack 300 µL on 7\n",
      "Aspirating 69.0 uL from A3 of 20mLscintillation 12 Well Plate 18000 µL on 1 at 500.0 uL/sec\n",
      "Air gap\n",
      "Aspirating 20.0 uL from A3 of 20mLscintillation 12 Well Plate 18000 µL on 1 at 500.0 uL/sec\n",
      "Dispensing 69.0 uL into A2 of Corning 96 Well Plate 360 µL Flat on 6 at 700.0 uL/sec\n",
      "Blowing out at A2 of Corning 96 Well Plate 360 µL Flat on 6\n",
      "Blowing out at A2 of Corning 96 Well Plate 360 µL Flat on 6\n",
      "Dropping tip into A3 of Opentrons 96 Tip Rack 300 µL on 7\n",
      "Delaying for 0 minutes and 59.976 seconds\n",
      "Picking up tip from A4 of Opentrons 96 Tip Rack 20 µL on 4\n",
      "Aspirating 17.0 uL from A4 of 20mLscintillation 12 Well Plate 18000 µL on 1 at 500.0 uL/sec\n",
      "Dispensing 17.0 uL into A2 of Corning 96 Well Plate 360 µL Flat on 6 at 500.0 uL/sec\n",
      "Blowing out at A2 of Corning 96 Well Plate 360 µL Flat on 6\n",
      "Blowing out at A2 of Corning 96 Well Plate 360 µL Flat on 6\n",
      "Dropping tip into A4 of Opentrons 96 Tip Rack 20 µL on 4\n",
      "Delaying for 0 minutes and 59.979 seconds\n",
      "Picking up tip from A5 of Opentrons 96 Tip Rack 300 µL on 7\n",
      "Aspirating 34.0 uL from B1 of 20mLscintillation 12 Well Plate 18000 µL on 1 at 500.0 uL/sec\n",
      "Air gap\n",
      "Aspirating 20.0 uL from B1 of 20mLscintillation 12 Well Plate 18000 µL on 1 at 500.0 uL/sec\n",
      "Dispensing 34.0 uL into A2 of Corning 96 Well Plate 360 µL Flat on 6 at 700.0 uL/sec\n",
      "Blowing out at A2 of Corning 96 Well Plate 360 µL Flat on 6\n",
      "Blowing out at A2 of Corning 96 Well Plate 360 µL Flat on 6\n",
      "Dropping tip into A5 of Opentrons 96 Tip Rack 300 µL on 7\n",
      "Delaying for 0 minutes and 59.973 seconds\n",
      "Picking up tip from A6 of Opentrons 96 Tip Rack 300 µL on 7\n",
      "Aspirating 40.0 uL from B2 of 20mLscintillation 12 Well Plate 18000 µL on 1 at 500.0 uL/sec\n",
      "Air gap\n",
      "Aspirating 20.0 uL from B2 of 20mLscintillation 12 Well Plate 18000 µL on 1 at 500.0 uL/sec\n",
      "Dispensing 40.0 uL into A2 of Corning 96 Well Plate 360 µL Flat on 6 at 700.0 uL/sec\n",
      "Blowing out at A2 of Corning 96 Well Plate 360 µL Flat on 6\n",
      "Blowing out at A2 of Corning 96 Well Plate 360 µL Flat on 6\n",
      "Dropping tip into A6 of Opentrons 96 Tip Rack 300 µL on 7\n",
      "Delaying for 0 minutes and 59.97 seconds\n",
      "Picking up tip from A7 of Opentrons 96 Tip Rack 20 µL on 4\n",
      "Aspirating 17.0 uL from B3 of 20mLscintillation 12 Well Plate 18000 µL on 1 at 500.0 uL/sec\n",
      "Dispensing 17.0 uL into A2 of Corning 96 Well Plate 360 µL Flat on 6 at 500.0 uL/sec\n",
      "Blowing out at A2 of Corning 96 Well Plate 360 µL Flat on 6\n",
      "Blowing out at A2 of Corning 96 Well Plate 360 µL Flat on 6\n",
      "Dropping tip into A7 of Opentrons 96 Tip Rack 20 µL on 4\n",
      "Delaying for 0 minutes and 59.975 seconds\n",
      "Picking up tip from A1 of Opentrons 96 Tip Rack 300 µL on 7\n",
      "Aspirating 112.0 uL from A1 of 20mLscintillation 12 Well Plate 18000 µL on 1 at 500.0 uL/sec\n",
      "Air gap\n",
      "Aspirating 20.0 uL from A1 of 20mLscintillation 12 Well Plate 18000 µL on 1 at 500.0 uL/sec\n",
      "Dispensing 112.0 uL into A3 of Corning 96 Well Plate 360 µL Flat on 6 at 700.0 uL/sec\n",
      "Blowing out at A3 of Corning 96 Well Plate 360 µL Flat on 6\n",
      "Blowing out at A3 of Corning 96 Well Plate 360 µL Flat on 6\n",
      "Dropping tip into A1 of Opentrons 96 Tip Rack 300 µL on 7\n",
      "Delaying for 0 minutes and 59.975 seconds\n",
      "Picking up tip from A2 of Opentrons 96 Tip Rack 300 µL on 7\n",
      "Aspirating 61.0 uL from A2 of 20mLscintillation 12 Well Plate 18000 µL on 1 at 500.0 uL/sec\n",
      "Air gap\n",
      "Aspirating 20.0 uL from A2 of 20mLscintillation 12 Well Plate 18000 µL on 1 at 500.0 uL/sec\n",
      "Dispensing 61.0 uL into A3 of Corning 96 Well Plate 360 µL Flat on 6 at 700.0 uL/sec\n",
      "Blowing out at A3 of Corning 96 Well Plate 360 µL Flat on 6\n",
      "Blowing out at A3 of Corning 96 Well Plate 360 µL Flat on 6\n",
      "Dropping tip into A2 of Opentrons 96 Tip Rack 300 µL on 7\n",
      "Delaying for 0 minutes and 59.974 seconds\n",
      "Picking up tip from A3 of Opentrons 96 Tip Rack 300 µL on 7\n",
      "Aspirating 69.0 uL from A3 of 20mLscintillation 12 Well Plate 18000 µL on 1 at 500.0 uL/sec\n",
      "Air gap\n",
      "Aspirating 20.0 uL from A3 of 20mLscintillation 12 Well Plate 18000 µL on 1 at 500.0 uL/sec\n",
      "Dispensing 69.0 uL into A3 of Corning 96 Well Plate 360 µL Flat on 6 at 700.0 uL/sec\n",
      "Blowing out at A3 of Corning 96 Well Plate 360 µL Flat on 6\n",
      "Blowing out at A3 of Corning 96 Well Plate 360 µL Flat on 6\n",
      "Dropping tip into A3 of Opentrons 96 Tip Rack 300 µL on 7\n",
      "Delaying for 0 minutes and 59.974 seconds\n",
      "Picking up tip from A4 of Opentrons 96 Tip Rack 20 µL on 4\n",
      "Aspirating 17.0 uL from A4 of 20mLscintillation 12 Well Plate 18000 µL on 1 at 500.0 uL/sec\n",
      "Dispensing 17.0 uL into A3 of Corning 96 Well Plate 360 µL Flat on 6 at 500.0 uL/sec\n",
      "Blowing out at A3 of Corning 96 Well Plate 360 µL Flat on 6\n",
      "Blowing out at A3 of Corning 96 Well Plate 360 µL Flat on 6\n",
      "Dropping tip into A4 of Opentrons 96 Tip Rack 20 µL on 4\n",
      "Delaying for 0 minutes and 59.978 seconds\n",
      "Picking up tip from A5 of Opentrons 96 Tip Rack 300 µL on 7\n",
      "Aspirating 34.0 uL from B1 of 20mLscintillation 12 Well Plate 18000 µL on 1 at 500.0 uL/sec\n",
      "Air gap\n",
      "Aspirating 20.0 uL from B1 of 20mLscintillation 12 Well Plate 18000 µL on 1 at 500.0 uL/sec\n",
      "Dispensing 34.0 uL into A3 of Corning 96 Well Plate 360 µL Flat on 6 at 700.0 uL/sec\n",
      "Blowing out at A3 of Corning 96 Well Plate 360 µL Flat on 6\n",
      "Blowing out at A3 of Corning 96 Well Plate 360 µL Flat on 6\n",
      "Dropping tip into A5 of Opentrons 96 Tip Rack 300 µL on 7\n",
      "Delaying for 0 minutes and 59.973 seconds\n",
      "Picking up tip from A6 of Opentrons 96 Tip Rack 300 µL on 7\n",
      "Aspirating 40.0 uL from B2 of 20mLscintillation 12 Well Plate 18000 µL on 1 at 500.0 uL/sec\n",
      "Air gap\n",
      "Aspirating 20.0 uL from B2 of 20mLscintillation 12 Well Plate 18000 µL on 1 at 500.0 uL/sec\n",
      "Dispensing 40.0 uL into A3 of Corning 96 Well Plate 360 µL Flat on 6 at 700.0 uL/sec\n",
      "Blowing out at A3 of Corning 96 Well Plate 360 µL Flat on 6\n",
      "Blowing out at A3 of Corning 96 Well Plate 360 µL Flat on 6\n",
      "Dropping tip into A6 of Opentrons 96 Tip Rack 300 µL on 7\n",
      "Delaying for 0 minutes and 59.971 seconds\n",
      "Picking up tip from A7 of Opentrons 96 Tip Rack 20 µL on 4\n",
      "Aspirating 17.0 uL from B3 of 20mLscintillation 12 Well Plate 18000 µL on 1 at 500.0 uL/sec\n",
      "Dispensing 17.0 uL into A3 of Corning 96 Well Plate 360 µL Flat on 6 at 500.0 uL/sec\n",
      "Blowing out at A3 of Corning 96 Well Plate 360 µL Flat on 6\n",
      "Blowing out at A3 of Corning 96 Well Plate 360 µL Flat on 6\n",
      "Dropping tip into A7 of Opentrons 96 Tip Rack 20 µL on 4\n",
      "Delaying for 0 minutes and 59.977 seconds\n",
      "Picking up tip from A1 of Opentrons 96 Tip Rack 300 µL on 7\n",
      "Aspirating 112.0 uL from A1 of 20mLscintillation 12 Well Plate 18000 µL on 1 at 500.0 uL/sec\n",
      "Air gap\n",
      "Aspirating 20.0 uL from A1 of 20mLscintillation 12 Well Plate 18000 µL on 1 at 500.0 uL/sec\n",
      "Dispensing 112.0 uL into A4 of Corning 96 Well Plate 360 µL Flat on 6 at 700.0 uL/sec\n",
      "Blowing out at A4 of Corning 96 Well Plate 360 µL Flat on 6\n",
      "Blowing out at A4 of Corning 96 Well Plate 360 µL Flat on 6\n",
      "Dropping tip into A1 of Opentrons 96 Tip Rack 300 µL on 7\n",
      "Delaying for 0 minutes and 59.971 seconds\n",
      "Picking up tip from A2 of Opentrons 96 Tip Rack 300 µL on 7\n",
      "Aspirating 61.0 uL from A2 of 20mLscintillation 12 Well Plate 18000 µL on 1 at 500.0 uL/sec\n",
      "Air gap\n",
      "Aspirating 20.0 uL from A2 of 20mLscintillation 12 Well Plate 18000 µL on 1 at 500.0 uL/sec\n",
      "Dispensing 61.0 uL into A4 of Corning 96 Well Plate 360 µL Flat on 6 at 700.0 uL/sec\n",
      "Blowing out at A4 of Corning 96 Well Plate 360 µL Flat on 6\n",
      "Blowing out at A4 of Corning 96 Well Plate 360 µL Flat on 6\n",
      "Dropping tip into A2 of Opentrons 96 Tip Rack 300 µL on 7\n",
      "Delaying for 0 minutes and 59.973 seconds\n",
      "Picking up tip from A3 of Opentrons 96 Tip Rack 300 µL on 7\n",
      "Aspirating 69.0 uL from A3 of 20mLscintillation 12 Well Plate 18000 µL on 1 at 500.0 uL/sec\n",
      "Air gap\n",
      "Aspirating 20.0 uL from A3 of 20mLscintillation 12 Well Plate 18000 µL on 1 at 500.0 uL/sec\n",
      "Dispensing 69.0 uL into A4 of Corning 96 Well Plate 360 µL Flat on 6 at 700.0 uL/sec\n",
      "Blowing out at A4 of Corning 96 Well Plate 360 µL Flat on 6\n",
      "Blowing out at A4 of Corning 96 Well Plate 360 µL Flat on 6\n",
      "Dropping tip into A3 of Opentrons 96 Tip Rack 300 µL on 7\n",
      "Delaying for 0 minutes and 59.973 seconds\n",
      "Picking up tip from A4 of Opentrons 96 Tip Rack 20 µL on 4\n",
      "Aspirating 17.0 uL from A4 of 20mLscintillation 12 Well Plate 18000 µL on 1 at 500.0 uL/sec\n",
      "Dispensing 17.0 uL into A4 of Corning 96 Well Plate 360 µL Flat on 6 at 500.0 uL/sec\n",
      "Blowing out at A4 of Corning 96 Well Plate 360 µL Flat on 6\n",
      "Blowing out at A4 of Corning 96 Well Plate 360 µL Flat on 6\n",
      "Dropping tip into A4 of Opentrons 96 Tip Rack 20 µL on 4\n",
      "Delaying for 0 minutes and 59.976 seconds\n",
      "Picking up tip from A5 of Opentrons 96 Tip Rack 300 µL on 7\n",
      "Aspirating 34.0 uL from B1 of 20mLscintillation 12 Well Plate 18000 µL on 1 at 500.0 uL/sec\n",
      "Air gap\n",
      "Aspirating 20.0 uL from B1 of 20mLscintillation 12 Well Plate 18000 µL on 1 at 500.0 uL/sec\n",
      "Dispensing 34.0 uL into A4 of Corning 96 Well Plate 360 µL Flat on 6 at 700.0 uL/sec\n",
      "Blowing out at A4 of Corning 96 Well Plate 360 µL Flat on 6\n",
      "Blowing out at A4 of Corning 96 Well Plate 360 µL Flat on 6\n",
      "Dropping tip into A5 of Opentrons 96 Tip Rack 300 µL on 7\n",
      "Delaying for 0 minutes and 59.976 seconds\n",
      "Picking up tip from A6 of Opentrons 96 Tip Rack 300 µL on 7\n",
      "Aspirating 40.0 uL from B2 of 20mLscintillation 12 Well Plate 18000 µL on 1 at 500.0 uL/sec\n",
      "Air gap\n",
      "Aspirating 20.0 uL from B2 of 20mLscintillation 12 Well Plate 18000 µL on 1 at 500.0 uL/sec\n",
      "Dispensing 40.0 uL into A4 of Corning 96 Well Plate 360 µL Flat on 6 at 700.0 uL/sec\n",
      "Blowing out at A4 of Corning 96 Well Plate 360 µL Flat on 6\n",
      "Blowing out at A4 of Corning 96 Well Plate 360 µL Flat on 6\n",
      "Dropping tip into A6 of Opentrons 96 Tip Rack 300 µL on 7\n",
      "Delaying for 0 minutes and 59.971 seconds\n",
      "Picking up tip from A7 of Opentrons 96 Tip Rack 20 µL on 4\n",
      "Aspirating 17.0 uL from B3 of 20mLscintillation 12 Well Plate 18000 µL on 1 at 500.0 uL/sec\n",
      "Dispensing 17.0 uL into A4 of Corning 96 Well Plate 360 µL Flat on 6 at 500.0 uL/sec\n",
      "Blowing out at A4 of Corning 96 Well Plate 360 µL Flat on 6\n",
      "Blowing out at A4 of Corning 96 Well Plate 360 µL Flat on 6\n",
      "Dropping tip into A7 of Opentrons 96 Tip Rack 20 µL on 4\n",
      "Delaying for 0 minutes and 59.974 seconds\n",
      "Picking up tip from A1 of Opentrons 96 Tip Rack 300 µL on 7\n",
      "Aspirating 112.0 uL from A1 of 20mLscintillation 12 Well Plate 18000 µL on 1 at 500.0 uL/sec\n",
      "Air gap\n",
      "Aspirating 20.0 uL from A1 of 20mLscintillation 12 Well Plate 18000 µL on 1 at 500.0 uL/sec\n",
      "Dispensing 112.0 uL into A5 of Corning 96 Well Plate 360 µL Flat on 6 at 700.0 uL/sec\n",
      "Blowing out at A5 of Corning 96 Well Plate 360 µL Flat on 6\n",
      "Blowing out at A5 of Corning 96 Well Plate 360 µL Flat on 6\n",
      "Dropping tip into A1 of Opentrons 96 Tip Rack 300 µL on 7\n",
      "Delaying for 0 minutes and 59.969 seconds\n",
      "Picking up tip from A2 of Opentrons 96 Tip Rack 300 µL on 7\n",
      "Aspirating 61.0 uL from A2 of 20mLscintillation 12 Well Plate 18000 µL on 1 at 500.0 uL/sec\n",
      "Air gap\n",
      "Aspirating 20.0 uL from A2 of 20mLscintillation 12 Well Plate 18000 µL on 1 at 500.0 uL/sec\n",
      "Dispensing 61.0 uL into A5 of Corning 96 Well Plate 360 µL Flat on 6 at 700.0 uL/sec\n",
      "Blowing out at A5 of Corning 96 Well Plate 360 µL Flat on 6\n",
      "Blowing out at A5 of Corning 96 Well Plate 360 µL Flat on 6\n",
      "Dropping tip into A2 of Opentrons 96 Tip Rack 300 µL on 7\n",
      "Delaying for 0 minutes and 59.969 seconds\n",
      "Picking up tip from A3 of Opentrons 96 Tip Rack 300 µL on 7\n",
      "Aspirating 69.0 uL from A3 of 20mLscintillation 12 Well Plate 18000 µL on 1 at 500.0 uL/sec\n",
      "Air gap\n",
      "Aspirating 20.0 uL from A3 of 20mLscintillation 12 Well Plate 18000 µL on 1 at 500.0 uL/sec\n",
      "Dispensing 69.0 uL into A5 of Corning 96 Well Plate 360 µL Flat on 6 at 700.0 uL/sec\n",
      "Blowing out at A5 of Corning 96 Well Plate 360 µL Flat on 6\n",
      "Blowing out at A5 of Corning 96 Well Plate 360 µL Flat on 6\n",
      "Dropping tip into A3 of Opentrons 96 Tip Rack 300 µL on 7\n",
      "Delaying for 0 minutes and 59.974 seconds\n",
      "Picking up tip from A4 of Opentrons 96 Tip Rack 20 µL on 4\n",
      "Aspirating 17.0 uL from A4 of 20mLscintillation 12 Well Plate 18000 µL on 1 at 500.0 uL/sec\n",
      "Dispensing 17.0 uL into A5 of Corning 96 Well Plate 360 µL Flat on 6 at 500.0 uL/sec\n",
      "Blowing out at A5 of Corning 96 Well Plate 360 µL Flat on 6\n",
      "Blowing out at A5 of Corning 96 Well Plate 360 µL Flat on 6\n",
      "Dropping tip into A4 of Opentrons 96 Tip Rack 20 µL on 4\n",
      "Delaying for 0 minutes and 59.978 seconds\n",
      "Picking up tip from A5 of Opentrons 96 Tip Rack 300 µL on 7\n",
      "Aspirating 34.0 uL from B1 of 20mLscintillation 12 Well Plate 18000 µL on 1 at 500.0 uL/sec\n",
      "Air gap\n",
      "Aspirating 20.0 uL from B1 of 20mLscintillation 12 Well Plate 18000 µL on 1 at 500.0 uL/sec\n",
      "Dispensing 34.0 uL into A5 of Corning 96 Well Plate 360 µL Flat on 6 at 700.0 uL/sec\n",
      "Blowing out at A5 of Corning 96 Well Plate 360 µL Flat on 6\n",
      "Blowing out at A5 of Corning 96 Well Plate 360 µL Flat on 6\n",
      "Dropping tip into A5 of Opentrons 96 Tip Rack 300 µL on 7\n",
      "Delaying for 0 minutes and 59.976 seconds\n",
      "Picking up tip from A6 of Opentrons 96 Tip Rack 300 µL on 7\n",
      "Aspirating 40.0 uL from B2 of 20mLscintillation 12 Well Plate 18000 µL on 1 at 500.0 uL/sec\n",
      "Air gap\n",
      "Aspirating 20.0 uL from B2 of 20mLscintillation 12 Well Plate 18000 µL on 1 at 500.0 uL/sec\n",
      "Dispensing 40.0 uL into A5 of Corning 96 Well Plate 360 µL Flat on 6 at 700.0 uL/sec\n",
      "Blowing out at A5 of Corning 96 Well Plate 360 µL Flat on 6\n",
      "Blowing out at A5 of Corning 96 Well Plate 360 µL Flat on 6\n",
      "Dropping tip into A6 of Opentrons 96 Tip Rack 300 µL on 7\n",
      "Delaying for 0 minutes and 59.97 seconds\n",
      "Picking up tip from A7 of Opentrons 96 Tip Rack 20 µL on 4\n",
      "Aspirating 17.0 uL from B3 of 20mLscintillation 12 Well Plate 18000 µL on 1 at 500.0 uL/sec\n",
      "Dispensing 17.0 uL into A5 of Corning 96 Well Plate 360 µL Flat on 6 at 500.0 uL/sec\n",
      "Blowing out at A5 of Corning 96 Well Plate 360 µL Flat on 6\n",
      "Blowing out at A5 of Corning 96 Well Plate 360 µL Flat on 6\n",
      "Dropping tip into A7 of Opentrons 96 Tip Rack 20 µL on 4\n",
      "Delaying for 0 minutes and 59.975 seconds\n"
     ]
    }
   ],
   "source": [
    "protocol = exp.simulate(protocol_path)\n",
    "exp.perform_directions(protocol, direction_array, start_location = start_location)"
   ]
  },
  {
   "cell_type": "markdown",
   "id": "f0670941",
   "metadata": {},
   "source": [
    "### Run the Experiment"
   ]
  },
  {
   "cell_type": "code",
   "execution_count": null,
   "id": "195d8e18",
   "metadata": {},
   "outputs": [],
   "source": [
    "Pacific = timezone('US/Pacific')\n",
    "p_time = datetime.now(Pacific)\n",
    "print(p_time.strftime('Start Time: %H:%M:%S'))"
   ]
  },
  {
   "cell_type": "code",
   "execution_count": null,
   "id": "53185891",
   "metadata": {
    "scrolled": true
   },
   "outputs": [],
   "source": [
    "protocol = exp.execute(protocol_path)\n",
    "exp.perform_directions(protocol, direction_array, start_location = start_location)"
   ]
  },
  {
   "cell_type": "code",
   "execution_count": null,
   "id": "6f0387a2",
   "metadata": {},
   "outputs": [],
   "source": [
    "Pacific = timezone('US/Pacific')\n",
    "p_time = datetime.now(Pacific)\n",
    "print(p_time.strftime('End Time: %H:%M:%S'))"
   ]
  },
  {
   "cell_type": "markdown",
   "id": "1fff53e8",
   "metadata": {},
   "source": [
    "## Test Accuracy of Experiment"
   ]
  },
  {
   "cell_type": "code",
   "execution_count": 11,
   "id": "ce8d22b2",
   "metadata": {},
   "outputs": [
    {
     "name": "stdout",
     "output_type": "stream",
     "text": [
      "Time: The average time delay error is (+/-) 2.3 seconds\n",
      "Order: Check Passed, Actual Order is equal to specified Order\n",
      "Volume: Error, Actual Volume is not equal to specified Volume\n"
     ]
    }
   ],
   "source": [
    "exp.test(exp.exp_data, v_array, t_array, o_array)"
   ]
  }
 ],
 "metadata": {
  "kernelspec": {
   "display_name": "Python 3 (ipykernel)",
   "language": "python",
   "name": "python3"
  },
  "language_info": {
   "codemirror_mode": {
    "name": "ipython",
    "version": 3
   },
   "file_extension": ".py",
   "mimetype": "text/x-python",
   "name": "python",
   "nbconvert_exporter": "python",
   "pygments_lexer": "ipython3",
   "version": "3.9.7"
  }
 },
 "nbformat": 4,
 "nbformat_minor": 5
}
